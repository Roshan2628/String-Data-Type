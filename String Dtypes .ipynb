{
 "cells": [
  {
   "cell_type": "code",
   "execution_count": null,
   "id": "0d0bb5cf-94dc-48c0-a422-e98e9e8d45f8",
   "metadata": {},
   "outputs": [],
   "source": [
    "##1. Write a Python program to calculate the length of a string.\n",
    "#Sample Output\n",
    "#Tutor Joes\n",
    "#Length of String = 10\n"
   ]
  },
  {
   "cell_type": "code",
   "execution_count": 2,
   "id": "03badac7-53b4-4bc4-8fb3-86a629081321",
   "metadata": {},
   "outputs": [
    {
     "name": "stdout",
     "output_type": "stream",
     "text": [
      "10\n"
     ]
    }
   ],
   "source": [
    "a = \"Tutor Joes\"\n",
    "print(len(a))"
   ]
  },
  {
   "cell_type": "code",
   "execution_count": null,
   "id": "cb57996d-af2c-4d95-913a-039d00a29444",
   "metadata": {},
   "outputs": [],
   "source": [
    "#2. Write a Python program to count the number of characters (character frequency) in a string.\n",
    "#Sample Output\n",
    "#tutorjoes\n",
    "#{'t' : 2, 'u' : 1, 'o' : 2, 'r' : 1, 'j' : 1, 'e' : 1, 's' : 1}\n"
   ]
  },
  {
   "cell_type": "code",
   "execution_count": 9,
   "id": "78e2d1ba-18ae-4ed1-9fb2-2126581da2fb",
   "metadata": {},
   "outputs": [
    {
     "name": "stdout",
     "output_type": "stream",
     "text": [
      "{'t': 2, 'u': 1, 'o': 2, 'r': 1, 'j': 1, 'e': 1, 's': 1}\n",
      "['t', 'u', 'o', 'r', 'j', 'e', 's']\n"
     ]
    }
   ],
   "source": [
    "a = {'t' : 2, 'u' : 1, 'o' : 2, 'r' : 1, 'j' : 1, 'e' : 1, 's' : 1}\n",
    "print(a)\n",
    "a1 = list(a)\n",
    "print(a1)"
   ]
  },
  {
   "cell_type": "code",
   "execution_count": 12,
   "id": "452ecc9a-c9fd-4fcd-bfc7-0f5ba4878680",
   "metadata": {},
   "outputs": [
    {
     "data": {
      "text/plain": [
       "7"
      ]
     },
     "execution_count": 12,
     "metadata": {},
     "output_type": "execute_result"
    }
   ],
   "source": [
    "len(a1)"
   ]
  },
  {
   "cell_type": "code",
   "execution_count": null,
   "id": "af93e712-39bf-4f50-b18b-784264bf8e37",
   "metadata": {},
   "outputs": [],
   "source": [
    "#3. Write a Python program to get a string from a given string where all occurrences of its first char have been changed to '@', except the first char itself.Sample Output\n",
    "Given #String = tutor joes\n",
    "After #String = tu@or joes\n"
   ]
  },
  {
   "cell_type": "code",
   "execution_count": 15,
   "id": "7e1de2d9-0e81-4e05-8388-ca4b0f156293",
   "metadata": {},
   "outputs": [
    {
     "data": {
      "text/plain": [
       "'t'"
      ]
     },
     "execution_count": 15,
     "metadata": {},
     "output_type": "execute_result"
    }
   ],
   "source": [
    "x = \"tutor joes\"\n",
    "x1=x[0]\n",
    "x1"
   ]
  },
  {
   "cell_type": "code",
   "execution_count": 17,
   "id": "6602cdf2-9fd4-406e-8835-681813a45433",
   "metadata": {},
   "outputs": [
    {
     "data": {
      "text/plain": [
       "'tu@or joes'"
      ]
     },
     "execution_count": 17,
     "metadata": {},
     "output_type": "execute_result"
    }
   ],
   "source": [
    "x2= x1 + x[1:].replace(x1,'@')\n",
    "x2"
   ]
  },
  {
   "cell_type": "code",
   "execution_count": null,
   "id": "0598719d-55df-4455-8f61-4ad58222e422",
   "metadata": {},
   "outputs": [],
   "source": [
    "#4. Write a Python program to get a single string from two given strings, separated by a space and swap the first two characters of each string.Sample Output\n",
    "#Before Swap = abc xyz\n",
    "#After Swap = xyc abz\n"
   ]
  },
  {
   "cell_type": "code",
   "execution_count": 32,
   "id": "7684657f-e175-4606-ba86-9938505dea59",
   "metadata": {},
   "outputs": [
    {
     "name": "stdout",
     "output_type": "stream",
     "text": [
      "abc\n"
     ]
    }
   ],
   "source": [
    "s1 = 'abc'\n",
    "print(s1)\n"
   ]
  },
  {
   "cell_type": "code",
   "execution_count": 33,
   "id": "19f8a78f-1113-4050-8be7-25236138aef1",
   "metadata": {},
   "outputs": [
    {
     "name": "stdout",
     "output_type": "stream",
     "text": [
      "xyc\n"
     ]
    }
   ],
   "source": [
    "x1=s1.replace('ab','xy')\n",
    "print(x1)"
   ]
  },
  {
   "cell_type": "code",
   "execution_count": 34,
   "id": "6f9772cb-1aaf-44bf-b1ab-af544d055c1e",
   "metadata": {},
   "outputs": [
    {
     "name": "stdout",
     "output_type": "stream",
     "text": [
      "xyz\n"
     ]
    }
   ],
   "source": [
    "s2='xyz'\n",
    "print(s2)"
   ]
  },
  {
   "cell_type": "code",
   "execution_count": 35,
   "id": "1ab0a3da-4cfd-42fb-b4b6-55b0cc74738a",
   "metadata": {},
   "outputs": [
    {
     "data": {
      "text/plain": [
       "'abz'"
      ]
     },
     "execution_count": 35,
     "metadata": {},
     "output_type": "execute_result"
    }
   ],
   "source": [
    "x2=s2.replace('xy','ab')\n",
    "x2"
   ]
  },
  {
   "cell_type": "code",
   "execution_count": 36,
   "id": "6390bcf9-58cd-44fc-904f-0b070e31eae5",
   "metadata": {},
   "outputs": [
    {
     "name": "stdout",
     "output_type": "stream",
     "text": [
      "xyc abz\n"
     ]
    }
   ],
   "source": [
    "x3 = x1 + ' ' + x2\n",
    "print(x3)"
   ]
  },
  {
   "cell_type": "code",
   "execution_count": null,
   "id": "6b75a5b4-63ef-438d-940d-4edfae06a822",
   "metadata": {},
   "outputs": [],
   "source": [
    "#5. Write a Python program to remove the nth index character from a nonempty string.Sample Output\n",
    "#Before Remove = Tutor Joes\n",
    "#Remove character = t\n",
    "#After Remove = Tuor Joes\n"
   ]
  },
  {
   "cell_type": "code",
   "execution_count": 37,
   "id": "3fba7cee-7844-4b12-8e62-2610424e9f96",
   "metadata": {},
   "outputs": [
    {
     "data": {
      "text/plain": [
       "'Tutor Joes'"
      ]
     },
     "execution_count": 37,
     "metadata": {},
     "output_type": "execute_result"
    }
   ],
   "source": [
    "a = 'Tutor Joes'\n",
    "a"
   ]
  },
  {
   "cell_type": "code",
   "execution_count": 43,
   "id": "187b0dba-e8b1-4b1a-acbf-b21e23f6b6af",
   "metadata": {},
   "outputs": [
    {
     "data": {
      "text/plain": [
       "'Tuor Joes'"
      ]
     },
     "execution_count": 43,
     "metadata": {},
     "output_type": "execute_result"
    }
   ],
   "source": [
    "a1=a.replace('Tutor Joes' , 'Tuor Joes')\n",
    "a1"
   ]
  },
  {
   "cell_type": "code",
   "execution_count": null,
   "id": "7d591cc7-e6f1-4a3d-ac84-90288e4daee2",
   "metadata": {},
   "outputs": [],
   "source": [
    "# Write a Python program to change a given string to a new string where the first and last chars have been exchanged\n",
    "Sample Output\n",
    "Before Exchange = Python\n",
    "After Exchange = nythoP\n"
   ]
  },
  {
   "cell_type": "code",
   "execution_count": 44,
   "id": "d144fec6-a0c8-44fd-8591-48de0b56eb44",
   "metadata": {},
   "outputs": [
    {
     "data": {
      "text/plain": [
       "'Python'"
      ]
     },
     "execution_count": 44,
     "metadata": {},
     "output_type": "execute_result"
    }
   ],
   "source": [
    "s = \"Python\"\n",
    "s"
   ]
  },
  {
   "cell_type": "code",
   "execution_count": 45,
   "id": "97534c75-d9bc-40ca-a9d2-d4a6fb3a8008",
   "metadata": {},
   "outputs": [
    {
     "data": {
      "text/plain": [
       "'nythoP'"
      ]
     },
     "execution_count": 45,
     "metadata": {},
     "output_type": "execute_result"
    }
   ],
   "source": [
    "s1=s.replace('Python','nythoP')\n",
    "s1"
   ]
  },
  {
   "cell_type": "code",
   "execution_count": null,
   "id": "83e886bb-d4e4-49a3-988a-3aaa7fd4bd22",
   "metadata": {},
   "outputs": [],
   "source": [
    "#7. Write a Python program to remove the characters which have odd index values of a given string\n",
    "Sample Output\n",
    "String = Computer Education\n",
    "Remove Odd Index Char = Cmue dcto\n"
   ]
  },
  {
   "cell_type": "code",
   "execution_count": 46,
   "id": "69b14743-02a5-442b-bdbb-acc54356b66f",
   "metadata": {},
   "outputs": [
    {
     "name": "stdout",
     "output_type": "stream",
     "text": [
      "Computer Education\n",
      "18\n"
     ]
    }
   ],
   "source": [
    "l = 'Computer Education'\n",
    "print(l)\n",
    "print(len(l))"
   ]
  },
  {
   "cell_type": "code",
   "execution_count": 52,
   "id": "496cc9a1-57c2-422b-850e-b8a593bd7791",
   "metadata": {},
   "outputs": [
    {
     "name": "stdout",
     "output_type": "stream",
     "text": [
      "Cmue dcto\n"
     ]
    }
   ],
   "source": [
    "print(l[0:18:2])\n"
   ]
  },
  {
   "cell_type": "code",
   "execution_count": null,
   "id": "b2fc79b1-6e90-444d-ac8b-3c480c96bf4c",
   "metadata": {},
   "outputs": [],
   "source": [
    "# Write a Python program to count the occurrences of each word in a given sentenceSample Output\n",
    "string = To change the overall look your document. To change the look available in the gallery\n",
    "{ 'To': 2, 'change': 2, 'the': 3, 'overall': 1, 'look': 2, 'your': 1, 'document.': 1, 'available': 1, 'in': 1, 'gallery': 1 }\n",
    "\n",
    "I'm not get the answer pl hint me . "
   ]
  },
  {
   "cell_type": "code",
   "execution_count": 53,
   "id": "6d689349-6bc3-4e17-8cb1-fb7ce467612c",
   "metadata": {},
   "outputs": [
    {
     "data": {
      "text/plain": [
       "'To change the overall look your document. To change the look available in the gallery'"
      ]
     },
     "execution_count": 53,
     "metadata": {},
     "output_type": "execute_result"
    }
   ],
   "source": [
    "string = \"To change the overall look your document. To change the look available in the gallery\"\n",
    "string\n"
   ]
  },
  {
   "cell_type": "code",
   "execution_count": 55,
   "id": "0417ad7b-7afd-490d-88c6-621e65ab1ecc",
   "metadata": {},
   "outputs": [
    {
     "data": {
      "text/plain": [
       "['To',\n",
       " 'change',\n",
       " 'the',\n",
       " 'overall',\n",
       " 'look',\n",
       " 'your',\n",
       " 'document.',\n",
       " 'To',\n",
       " 'change',\n",
       " 'the',\n",
       " 'look',\n",
       " 'available',\n",
       " 'in',\n",
       " 'the',\n",
       " 'gallery']"
      ]
     },
     "execution_count": 55,
     "metadata": {},
     "output_type": "execute_result"
    }
   ],
   "source": [
    "word = string.split()\n",
    "word"
   ]
  },
  {
   "cell_type": "code",
   "execution_count": null,
   "id": "700293df-d16b-4335-900e-166c41f55512",
   "metadata": {},
   "outputs": [],
   "source": [
    "# Write a Python script that takes input from the user and displays that input back in upper and lower cases.Sample Output\n",
    "Enter the String = Tutor Joes\n",
    "Uppercase = TUTOR JOES\n",
    "Lowercase = tutor joes\n"
   ]
  },
  {
   "cell_type": "code",
   "execution_count": 60,
   "id": "db79a1c8-ec44-4df5-a540-e106bf926f86",
   "metadata": {},
   "outputs": [
    {
     "name": "stdout",
     "output_type": "stream",
     "text": [
      "Tutor Joes\n"
     ]
    }
   ],
   "source": [
    "c = 'Tutor Joes'\n",
    "print(c)"
   ]
  },
  {
   "cell_type": "code",
   "execution_count": 63,
   "id": "4040cc79-f00b-405b-82e4-5ae7ec295d14",
   "metadata": {},
   "outputs": [
    {
     "name": "stdout",
     "output_type": "stream",
     "text": [
      "Uppercase - TUTOR JOES\n",
      "lowercase - tutor joes\n"
     ]
    }
   ],
   "source": [
    "print (\"Uppercase -\",c.upper())\n",
    "print (\"lowercase -\",c.lower())"
   ]
  },
  {
   "cell_type": "code",
   "execution_count": null,
   "id": "f63b79da-e825-4708-acf8-cb0b262985c7",
   "metadata": {},
   "outputs": [],
   "source": [
    "##10. Write a Python function to reverses a string if it's length is a multiple of 4.Sample Output\n",
    "Enter the String = Computer\n",
    "If the length is a multiple of 4 = retupmoC\n",
    "Enter the String = Science\n",
    "If the length is not a multiple of 4 = Science\n",
    "\n",
    "#Not Get the Answer Please given some Hint#\n"
   ]
  },
  {
   "cell_type": "code",
   "execution_count": 65,
   "id": "6484386a-b6b3-4547-a325-5d4ec5620793",
   "metadata": {},
   "outputs": [
    {
     "name": "stdout",
     "output_type": "stream",
     "text": [
      "Computer\n",
      "8\n"
     ]
    },
    {
     "ename": "AttributeError",
     "evalue": "'str' object has no attribute 'reverse'",
     "output_type": "error",
     "traceback": [
      "\u001b[1;31m---------------------------------------------------------------------------\u001b[0m",
      "\u001b[1;31mAttributeError\u001b[0m                            Traceback (most recent call last)",
      "Cell \u001b[1;32mIn[65], line 4\u001b[0m\n\u001b[0;32m      2\u001b[0m \u001b[38;5;28mprint\u001b[39m(ab)\n\u001b[0;32m      3\u001b[0m \u001b[38;5;28mprint\u001b[39m(\u001b[38;5;28mlen\u001b[39m(ab))\n\u001b[1;32m----> 4\u001b[0m ab\u001b[38;5;241m.\u001b[39mreverse()\n",
      "\u001b[1;31mAttributeError\u001b[0m: 'str' object has no attribute 'reverse'"
     ]
    }
   ],
   "source": [
    "ab = \"Computer\"\n",
    "print(ab)\n",
    "print(len(ab))\n"
   ]
  },
  {
   "cell_type": "code",
   "execution_count": null,
   "id": "ec6eab6c-7e7a-4b3a-b5e9-e1797f3f8674",
   "metadata": {},
   "outputs": [],
   "source": [
    "#11 Write a Python function to convert a given string to all uppercase if it contains at least 2 uppercase characters in the first 4 characters.\n",
    "Sample Output\n",
    "Enter the String = ComPuTeR\n",
    "Check if there are at least 2 uppercase letters in the first 4 characters = COMPUTER\n",
    "Enter the String = Computer\n",
    "Check if does not contain at least 2 uppercase letters in the first 4 characters = Computer\n"
   ]
  },
  {
   "cell_type": "code",
   "execution_count": 67,
   "id": "56a08a46-4868-47df-8e07-7218fa5f2c20",
   "metadata": {},
   "outputs": [
    {
     "name": "stdout",
     "output_type": "stream",
     "text": [
      "ComPuTeR\n"
     ]
    }
   ],
   "source": [
    "ac = 'ComPuTeR'\n",
    "print(ac)\n"
   ]
  },
  {
   "cell_type": "code",
   "execution_count": 72,
   "id": "73cb02ab-7ba5-450b-9739-da8b1744e11a",
   "metadata": {},
   "outputs": [
    {
     "name": "stdout",
     "output_type": "stream",
     "text": [
      "Uppercase - COMPUTER\n"
     ]
    }
   ],
   "source": [
    "print(\"Uppercase -\",ac.upper())\n"
   ]
  },
  {
   "cell_type": "code",
   "execution_count": 73,
   "id": "f4170b6e-c268-4a40-b4cc-1b1fd381893f",
   "metadata": {},
   "outputs": [
    {
     "data": {
      "text/plain": [
       "'ComP'"
      ]
     },
     "execution_count": 73,
     "metadata": {},
     "output_type": "execute_result"
    }
   ],
   "source": [
    "cd = ac[:4]\n",
    "cd"
   ]
  },
  {
   "cell_type": "code",
   "execution_count": null,
   "id": "64f57551-7ee2-46ab-887f-9d8cf2f32a75",
   "metadata": {},
   "outputs": [],
   "source": [
    "###12. Write a Python program to sort a string lexicographically.\n",
    "Sample Output\n",
    "Enter the String = Tutor\n",
    "['o', 'r', 'T', 't', 'u']\n"
   ]
  },
  {
   "cell_type": "code",
   "execution_count": 76,
   "id": "ea03b0ed-a152-40b5-ad00-063802cf3f7c",
   "metadata": {},
   "outputs": [
    {
     "name": "stdout",
     "output_type": "stream",
     "text": [
      "Tutor\n"
     ]
    },
    {
     "data": {
      "text/plain": [
       "['g', 'i', 'n', 'r', 's', 't']"
      ]
     },
     "execution_count": 76,
     "metadata": {},
     "output_type": "execute_result"
    }
   ],
   "source": [
    "string = \"Tutor\"\n",
    "print(string)\n",
    "sorted('string')"
   ]
  },
  {
   "cell_type": "code",
   "execution_count": null,
   "id": "f26b6941-a790-4ca5-910a-6127d70ac4c6",
   "metadata": {},
   "outputs": [],
   "source": [
    "##13. Write a Python program to remove a newline in Python.Sample Output\n",
    "String = \"\\nTutor \\nJoes \\nComputer \\nEducation\\n\"\n",
    "Before Remove NewLine(\\n)\n",
    "Tutor\n",
    "Joes\n",
    "Computer\n",
    "Education\n",
    "After Remove NewLine(\\n) = Tutor Joes Computer Education\n"
   ]
  },
  {
   "cell_type": "code",
   "execution_count": 77,
   "id": "9d7365c9-7f1b-45b6-82e5-b07d01261915",
   "metadata": {},
   "outputs": [
    {
     "name": "stdout",
     "output_type": "stream",
     "text": [
      "\n",
      "Tutor \n",
      "Joes \n",
      "Computer \n",
      "Education\n",
      "\n"
     ]
    }
   ],
   "source": [
    "string =  \"\\nTutor \\nJoes \\nComputer \\nEducation\\n\"\n",
    "print(string)"
   ]
  },
  {
   "cell_type": "code",
   "execution_count": 86,
   "id": "ea62d79e-224c-40d8-b273-ad0fc38a8608",
   "metadata": {},
   "outputs": [
    {
     "data": {
      "text/plain": [
       "'\\n T u t o r   \\n J o e s   \\n C o m p u t e r   \\n E d u c a t i o n \\n'"
      ]
     },
     "execution_count": 86,
     "metadata": {},
     "output_type": "execute_result"
    }
   ],
   "source": [
    "string2=' '.join(string)\n",
    "string2"
   ]
  },
  {
   "cell_type": "code",
   "execution_count": 93,
   "id": "384d68f3-25e7-4be4-8cee-723b271b80df",
   "metadata": {},
   "outputs": [
    {
     "data": {
      "text/plain": [
       "'T u t o r    J o e s    C o m p u t e r    E d u c a t i o n'"
      ]
     },
     "execution_count": 93,
     "metadata": {},
     "output_type": "execute_result"
    }
   ],
   "source": [
    "final_string = string2.replace('\\n', '').strip()\n",
    "final_string"
   ]
  },
  {
   "cell_type": "code",
   "execution_count": null,
   "id": "cbf27f48-3624-4489-b2d1-f0bba2ebb291",
   "metadata": {},
   "outputs": [],
   "source": [
    "#14. Write a Python program to check whether a string starts with specified characters. Sample Output\n",
    "Tutor Joes Computer Education\n",
    "Prefix to check = Tu\n",
    "Check if the input string starts with the prefix = True\n"
   ]
  },
  {
   "cell_type": "code",
   "execution_count": 94,
   "id": "22e64c89-021d-4d8e-bf5c-232bdd1ae8cf",
   "metadata": {},
   "outputs": [
    {
     "name": "stdout",
     "output_type": "stream",
     "text": [
      "Tutor Joes Computer Education\n"
     ]
    }
   ],
   "source": [
    "x = 'Tutor Joes Computer Education'\n",
    "print(x)"
   ]
  },
  {
   "cell_type": "code",
   "execution_count": 96,
   "id": "e9c090b7-75ad-48ed-8ac6-8d12f19a70ae",
   "metadata": {},
   "outputs": [
    {
     "name": "stdout",
     "output_type": "stream",
     "text": [
      "True\n"
     ]
    }
   ],
   "source": [
    "print(x.startswith('Tu'))"
   ]
  },
  {
   "cell_type": "code",
   "execution_count": null,
   "id": "e3e3d17d-c67a-47c0-bc6f-ec89c08e39f5",
   "metadata": {},
   "outputs": [],
   "source": [
    "# Write a Python program to display formatted text (width=35,70) as output.Sample Output\n",
    "Python is an interpreted, object-oriented, high-level programming language\n",
    "that can be used for a wide variety of applications. Python is a powerful\n",
    "general-purpose programming language.\n",
    "Formatted Text (Width 35) :\n",
    "Python is an interpreted, object-\n",
    "oriented, high-level programming\n",
    "language that can be used for a\n",
    "wide variety of applications.\n",
    "Python is a powerful general-purpose\n",
    "programming language.\n",
    "Formatted Text (Width 70) :\n",
    "Python is an interpreted, object-oriented, high-level programming language\n",
    "that can be used for a wide variety of applications. Python is a powerful\n",
    "general-purpose programming language\n"
   ]
  },
  {
   "cell_type": "code",
   "execution_count": null,
   "id": "d1bfdad3-293e-4eda-8056-460e03288498",
   "metadata": {},
   "outputs": [],
   "source": [
    "Pl provide hint a ='Python is an interpreted, object-oriented, high-level programming languagethat can be used for a wide variety of applications. Python is a powerfulgeneral-purpose programming language.'"
   ]
  },
  {
   "cell_type": "code",
   "execution_count": 97,
   "id": "64b8b2f1-4cd2-4dfc-a431-5e1b4c960717",
   "metadata": {},
   "outputs": [
    {
     "name": "stdout",
     "output_type": "stream",
     "text": [
      "Tutor Joes\n",
      "10\n"
     ]
    }
   ],
   "source": [
    "\n",
    "\n",
    "print(a)\n",
    "print(len(a))"
   ]
  },
  {
   "cell_type": "code",
   "execution_count": null,
   "id": "a0e379f4-6a17-4872-b386-eb64dab93502",
   "metadata": {},
   "outputs": [],
   "source": [
    "##16. Write a Python program to remove existing indentation from all of the lines in a given text. Sample Output\n",
    "Original text :\n",
    "              Python is an interpreted, object-oriented, high-level programming language\n",
    "              that can be used for a wide variety of applications. Python is a powerful\n",
    "              general-purpose programming language.\n",
    "Dedented text :\n",
    "Python is an interpreted, object-oriented, high-level programming language\n",
    "that can be used for a wide variety of applications. Python is a powerful\n",
    "general-purpose programming language.\n"
   ]
  },
  {
   "cell_type": "code",
   "execution_count": 103,
   "id": "5c60437f-0f2b-4edc-b848-a2355aa06f0b",
   "metadata": {},
   "outputs": [
    {
     "name": "stdout",
     "output_type": "stream",
     "text": [
      "Python is an interpreted, object-oriented, high-level programming language that can be used for a wide variety of applications. Python is a powerfulgeneral-purpose programming language.\n",
      "185\n"
     ]
    }
   ],
   "source": [
    "t1 = \"Python is an interpreted, object-oriented, high-level programming language that can be used for a wide variety of applications. Python is a powerfulgeneral-purpose programming language.\"\n",
    "print(t1)\n",
    "print(len(t1))"
   ]
  },
  {
   "cell_type": "code",
   "execution_count": 106,
   "id": "0b5761ae-e1f4-465d-8b1f-00747adb762e",
   "metadata": {},
   "outputs": [
    {
     "name": "stdout",
     "output_type": "stream",
     "text": [
      "Python is an interpreted, object-oriented, high-level programming language that can be used for a wide variety of applications. Python is a powerfulgeneral-purpose programming language.\n",
      "Python is an interpreted, object-oriented, high-level programming language that can be used for a wide variety of applications. Python is a powerfulgeneral-purpose programming language.\n",
      "Python is an interpreted, object-oriented, high-level programming language that can be used for a wide variety of applications. Python is a powerfulgeneral-purpose programming language.\n"
     ]
    }
   ],
   "source": [
    "print(t1.rstrip())\n",
    "print(t1.lstrip())\n",
    "print(t1.strip())"
   ]
  },
  {
   "cell_type": "code",
   "execution_count": 107,
   "id": "ecb2c41f-376f-4dc1-a238-bbe6239cf1dd",
   "metadata": {},
   "outputs": [
    {
     "name": "stdout",
     "output_type": "stream",
     "text": [
      "185\n"
     ]
    }
   ],
   "source": [
    "print(len(t1))"
   ]
  },
  {
   "cell_type": "code",
   "execution_count": 112,
   "id": "c25be98b-3c07-45f6-91af-4e676b8d5cc0",
   "metadata": {},
   "outputs": [
    {
     "name": "stdout",
     "output_type": "stream",
     "text": [
      "Python is an interpreted, object-oriented, high-level programming language that can be used for a wide variety of applications. Python is a powerfulgeneral-purpose programming language.\n"
     ]
    }
   ],
   "source": [
    "dedented_text = \"\"\n",
    "for line in t1.splitlines():\n",
    "    dedented_text += line.lstrip() + \"\\n\"\n",
    "print(t1)"
   ]
  },
  {
   "cell_type": "code",
   "execution_count": 113,
   "id": "0255b609-9b12-4a94-92c3-369c24959cd6",
   "metadata": {},
   "outputs": [
    {
     "name": "stdout",
     "output_type": "stream",
     "text": [
      "185\n"
     ]
    }
   ],
   "source": [
    "print(len(t1))"
   ]
  },
  {
   "cell_type": "code",
   "execution_count": null,
   "id": "2cb34ebf-d8a0-4172-b0b8-0cd0abe4a251",
   "metadata": {},
   "outputs": [],
   "source": [
    "## Write a Python program to add a prefix text to all of the lines in a string. Sample Output\n",
    "Text :\n",
    "              Python is an interpreted, object-oriented, high-level programming language\n",
    "              that can be used for a wide variety of applications. Python is a powerful\n",
    "              general-purpose programming language.\n",
    "Prefix to add to each line = *\n",
    "Display the Result :\n",
    "      *  Python is an interpreted, object-oriented, high-level programming language\n",
    "      *  that can be used for a wide variety of applications. Python is a powerful\n",
    "      *  general-purpose programming language.\n"
   ]
  },
  {
   "cell_type": "code",
   "execution_count": 116,
   "id": "99224316-e419-4ffd-abfc-4fb6afa09f09",
   "metadata": {},
   "outputs": [
    {
     "ename": "SyntaxError",
     "evalue": "invalid syntax (2828079435.py, line 1)",
     "output_type": "error",
     "traceback": [
      "\u001b[1;36m  Cell \u001b[1;32mIn[116], line 1\u001b[1;36m\u001b[0m\n\u001b[1;33m    t4 = \"Python is an interpreted, object-oriented, high-level programming language \" :\"that can be used for a wide variety of applications. Python is a powerful\":\u001b[0m\n\u001b[1;37m                                                                                       ^\u001b[0m\n\u001b[1;31mSyntaxError\u001b[0m\u001b[1;31m:\u001b[0m invalid syntax\n"
     ]
    }
   ],
   "source": [
    "t4 = \"Python is an interpreted, object-oriented, high-level programming language \" :\"that can be used for a wide variety of applications. Python is a powerful\":\n",
    "              \"general-purpose progteahewramming language.\"\n",
    "print(t4)"
   ]
  },
  {
   "cell_type": "code",
   "execution_count": null,
   "id": "026d81fc-9fae-4bd8-be9a-b1d812c6da88",
   "metadata": {},
   "outputs": [],
   "source": []
  },
  {
   "cell_type": "code",
   "execution_count": null,
   "id": "1ec7b812-4ed2-44a6-ad3a-ffa49c54f7b8",
   "metadata": {},
   "outputs": [],
   "source": []
  },
  {
   "cell_type": "code",
   "execution_count": null,
   "id": "f67f3184-b0ee-4b0a-b491-f7cd21fe4bbb",
   "metadata": {},
   "outputs": [],
   "source": []
  },
  {
   "cell_type": "code",
   "execution_count": null,
   "id": "f2f2a60a-84c3-4f86-a5e2-3864e63da6d9",
   "metadata": {},
   "outputs": [],
   "source": []
  }
 ],
 "metadata": {
  "kernelspec": {
   "display_name": "Python 3 (ipykernel)",
   "language": "python",
   "name": "python3"
  },
  "language_info": {
   "codemirror_mode": {
    "name": "ipython",
    "version": 3
   },
   "file_extension": ".py",
   "mimetype": "text/x-python",
   "name": "python",
   "nbconvert_exporter": "python",
   "pygments_lexer": "ipython3",
   "version": "3.11.7"
  }
 },
 "nbformat": 4,
 "nbformat_minor": 5
}
